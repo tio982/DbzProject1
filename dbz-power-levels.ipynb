{
 "cells": [
  {
   "attachments": {},
   "cell_type": "markdown",
   "id": "cf92a342",
   "metadata": {},
   "source": [
    "# DBZ Power Level Project\n",
    "This notebook is meant to be a fun experiment to build learning on the basics of machine learning."
   ]
  },
  {
   "attachments": {},
   "cell_type": "markdown",
   "id": "27be74f1",
   "metadata": {},
   "source": [
    "## Load Data Set"
   ]
  },
  {
   "cell_type": "code",
   "execution_count": null,
   "id": "2ebc3bd9",
   "metadata": {},
   "outputs": [],
   "source": [
    "import pandas as pd\n",
    "import "
   ]
  }
 ],
 "metadata": {
  "kernelspec": {
   "display_name": "base",
   "language": "python",
   "name": "python3"
  },
  "language_info": {
   "codemirror_mode": {
    "name": "ipython",
    "version": 3
   },
   "file_extension": ".py",
   "mimetype": "text/x-python",
   "name": "python",
   "nbconvert_exporter": "python",
   "pygments_lexer": "ipython3",
   "version": "3.9.13"
  },
  "vscode": {
   "interpreter": {
    "hash": "2fbd4d74da67036bfbcd1f99117d8799848e0d548e45364905e9d3285fce527c"
   }
  }
 },
 "nbformat": 4,
 "nbformat_minor": 5
}
