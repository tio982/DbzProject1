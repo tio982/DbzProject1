{
 "cells": [
  {
   "attachments": {},
   "cell_type": "markdown",
   "id": "cf92a342",
   "metadata": {},
   "source": [
    "# DBZ Power Level Project\n",
    "This notebook is meant to be a fun experiment to build learning on the basics of machine learning."
   ]
  },
  {
   "attachments": {},
   "cell_type": "markdown",
   "id": "27be74f1",
   "metadata": {},
   "source": [
    "## Load Data Set\n",
    "Loading the data set which we received from Kaggle. Data needed to go through a couple of phases of preprocessing which can be seen in the Data Preprocessing section."
   ]
  },
  {
   "cell_type": "code",
   "execution_count": 7,
   "id": "2ebc3bd9",
   "metadata": {},
   "outputs": [
    {
     "data": {
      "text/html": [
       "<div>\n",
       "<style scoped>\n",
       "    .dataframe tbody tr th:only-of-type {\n",
       "        vertical-align: middle;\n",
       "    }\n",
       "\n",
       "    .dataframe tbody tr th {\n",
       "        vertical-align: top;\n",
       "    }\n",
       "\n",
       "    .dataframe thead th {\n",
       "        text-align: right;\n",
       "    }\n",
       "</style>\n",
       "<table border=\"1\" class=\"dataframe\">\n",
       "  <thead>\n",
       "    <tr style=\"text-align: right;\">\n",
       "      <th></th>\n",
       "      <th>Character</th>\n",
       "      <th>Power_Level</th>\n",
       "      <th>Saga_or_Movie</th>\n",
       "      <th>Dragon_Ball_Series</th>\n",
       "    </tr>\n",
       "  </thead>\n",
       "  <tbody>\n",
       "    <tr>\n",
       "      <th>0</th>\n",
       "      <td>Goku</td>\n",
       "      <td>10</td>\n",
       "      <td>Emperor Pilaf Saga</td>\n",
       "      <td>Dragon Ball</td>\n",
       "    </tr>\n",
       "    <tr>\n",
       "      <th>1</th>\n",
       "      <td>Bulma</td>\n",
       "      <td>1.5</td>\n",
       "      <td>Emperor Pilaf Saga</td>\n",
       "      <td>Dragon Ball</td>\n",
       "    </tr>\n",
       "    <tr>\n",
       "      <th>2</th>\n",
       "      <td>Bear Thief</td>\n",
       "      <td>7</td>\n",
       "      <td>Emperor Pilaf Saga</td>\n",
       "      <td>Dragon Ball</td>\n",
       "    </tr>\n",
       "    <tr>\n",
       "      <th>3</th>\n",
       "      <td>Master Roshi</td>\n",
       "      <td>30</td>\n",
       "      <td>Emperor Pilaf Saga</td>\n",
       "      <td>Dragon Ball</td>\n",
       "    </tr>\n",
       "    <tr>\n",
       "      <th>4</th>\n",
       "      <td>Oolong</td>\n",
       "      <td>5</td>\n",
       "      <td>Emperor Pilaf Saga</td>\n",
       "      <td>Dragon Ball</td>\n",
       "    </tr>\n",
       "    <tr>\n",
       "      <th>...</th>\n",
       "      <td>...</td>\n",
       "      <td>...</td>\n",
       "      <td>...</td>\n",
       "      <td>...</td>\n",
       "    </tr>\n",
       "    <tr>\n",
       "      <th>1239</th>\n",
       "      <td>Goku (MSSJ with SSJG's power)</td>\n",
       "      <td>22,400,000,000,000</td>\n",
       "      <td>Movie 14: Battle of Gods</td>\n",
       "      <td>Dragon Ball Z</td>\n",
       "    </tr>\n",
       "    <tr>\n",
       "      <th>1240</th>\n",
       "      <td>Goku (SSJG)</td>\n",
       "      <td>224,000,000,000,000</td>\n",
       "      <td>Movie 14: Battle of Gods</td>\n",
       "      <td>Dragon Ball Z</td>\n",
       "    </tr>\n",
       "    <tr>\n",
       "      <th>1241</th>\n",
       "      <td>Goku</td>\n",
       "      <td>44,800,000,000</td>\n",
       "      <td>Movie 14: Battle of Gods</td>\n",
       "      <td>Dragon Ball Z</td>\n",
       "    </tr>\n",
       "    <tr>\n",
       "      <th>1242</th>\n",
       "      <td>Beerus (full power, never shown)</td>\n",
       "      <td>896,000,000,000,000</td>\n",
       "      <td>Movie 14: Battle of Gods</td>\n",
       "      <td>Dragon Ball Z</td>\n",
       "    </tr>\n",
       "    <tr>\n",
       "      <th>1243</th>\n",
       "      <td>Whis (full power, never shown)</td>\n",
       "      <td>4,480,000,000,000,000</td>\n",
       "      <td>Movie 14: Battle of Gods</td>\n",
       "      <td>Dragon Ball Z</td>\n",
       "    </tr>\n",
       "  </tbody>\n",
       "</table>\n",
       "<p>1244 rows × 4 columns</p>\n",
       "</div>"
      ],
      "text/plain": [
       "                             Character            Power_Level  \\\n",
       "0                                 Goku                     10   \n",
       "1                                Bulma                    1.5   \n",
       "2                           Bear Thief                      7   \n",
       "3                         Master Roshi                     30   \n",
       "4                               Oolong                      5   \n",
       "...                                ...                    ...   \n",
       "1239     Goku (MSSJ with SSJG's power)     22,400,000,000,000   \n",
       "1240                       Goku (SSJG)    224,000,000,000,000   \n",
       "1241                              Goku         44,800,000,000   \n",
       "1242  Beerus (full power, never shown)    896,000,000,000,000   \n",
       "1243    Whis (full power, never shown)  4,480,000,000,000,000   \n",
       "\n",
       "                 Saga_or_Movie Dragon_Ball_Series  \n",
       "0           Emperor Pilaf Saga        Dragon Ball  \n",
       "1           Emperor Pilaf Saga        Dragon Ball  \n",
       "2           Emperor Pilaf Saga        Dragon Ball  \n",
       "3           Emperor Pilaf Saga        Dragon Ball  \n",
       "4           Emperor Pilaf Saga        Dragon Ball  \n",
       "...                        ...                ...  \n",
       "1239  Movie 14: Battle of Gods      Dragon Ball Z  \n",
       "1240  Movie 14: Battle of Gods      Dragon Ball Z  \n",
       "1241  Movie 14: Battle of Gods      Dragon Ball Z  \n",
       "1242  Movie 14: Battle of Gods      Dragon Ball Z  \n",
       "1243  Movie 14: Battle of Gods      Dragon Ball Z  \n",
       "\n",
       "[1244 rows x 4 columns]"
      ]
     },
     "execution_count": 7,
     "metadata": {},
     "output_type": "execute_result"
    }
   ],
   "source": [
    "import pandas as pd\n",
    "df = pd.read_csv (\"Data/Dragon_Ball_Data_Set.csv\")\n",
    "df"
   ]
  },
  {
   "attachments": {},
   "cell_type": "markdown",
   "id": "43665c7c",
   "metadata": {},
   "source": [
    "## Data Preprocessing \n",
    "Implementing a form of data preprocessing to remove anomalies of character power levels within the dataset."
   ]
  },
  {
   "cell_type": "code",
   "execution_count": 8,
   "id": "daef3a73",
   "metadata": {},
   "outputs": [
    {
     "name": "stderr",
     "output_type": "stream",
     "text": [
      "/var/folders/16/4nzt98916c34lwlbh3f81k2r0000gn/T/ipykernel_49702/3435884438.py:1: UserWarning: This pattern is interpreted as a regular expression, and has match groups. To actually get the groups, use str.extract.\n",
      "  df = df [~df[\"Power_Level\"].str.contains(\"(supressed figting Trunks)\")]\n"
     ]
    }
   ],
   "source": [
    "df = df [~df[\"Power_Level\"].str.contains(\"(supressed figting Trunks)\")]"
   ]
  },
  {
   "attachments": {},
   "cell_type": "markdown",
   "id": "c39e2ca6",
   "metadata": {},
   "source": [
    "Some values in the data had different syntaxs. For example, one power level was noted as \"85\" while another was noted as \"820,000\". I decided to remove all the commas from the values to fix the \"ValueError\"."
   ]
  },
  {
   "cell_type": "code",
   "execution_count": 9,
   "id": "831f6ca0",
   "metadata": {},
   "outputs": [],
   "source": [
    "df [\"Power_Level\"] = df [\"Power_Level\"].str.replace(\",\",\"\") #removing commas from power level dataset\n",
    "df [\"Power_Level\"] = pd.to_numeric(df [\"Power_Level\"],errors=\"coerce\") #method to convert power level column to numeric values"
   ]
  },
  {
   "attachments": {},
   "cell_type": "markdown",
   "id": "6eb6c3bd",
   "metadata": {},
   "source": [
    "Noticed that single digit power levels were not being converted to numeric values correctly. I will now aim to fix this in the preprocessing section"
   ]
  },
  {
   "cell_type": "code",
   "execution_count": 14,
   "id": "5552ce2e",
   "metadata": {},
   "outputs": [],
   "source": [
    "def convert_to_numeric(value):\n",
    "    try: \n",
    "        return float(value)\n",
    "    except ValueError:\n",
    "        if value.isdigit(): #If it is a number in string format\n",
    "            return float(value)\n",
    "        else:\n",
    "            return None\n",
    "        \n",
    "df [\"Power_Level\"] = df [\"Power_Level\"].apply(convert_to_numeric)"
   ]
  },
  {
   "attachments": {},
   "cell_type": "markdown",
   "id": "5b4934e3",
   "metadata": {},
   "source": [
    "## Data Analysis"
   ]
  },
  {
   "cell_type": "code",
   "execution_count": 15,
   "id": "54b58f3b",
   "metadata": {},
   "outputs": [],
   "source": [
    "summary = df.describe()\n",
    "saga_power_levels = df.groupby(\"Saga_or_Movie\")[\"Power_Level\"].mean()\n",
    "character_power_levels = df.groupby(\"Character\")[\"Power_Level\"].mean()\n"
   ]
  },
  {
   "attachments": {},
   "cell_type": "markdown",
   "id": "7ee118cd",
   "metadata": {},
   "source": [
    "- df.describe was used to generate descriptive statistics for the data frame. Good practice to store value in summary variable for when conducting exploratory analysis.\n",
    "- The \"groupby\" method was used to split the data into different groups, \"Saga\" and \"Character\""
   ]
  },
  {
   "attachments": {},
   "cell_type": "markdown",
   "id": "b80600e1",
   "metadata": {},
   "source": [
    "# Data Visualisation \n",
    "Will now attempt to visualise the data using matplotlib and seaborn"
   ]
  },
  {
   "cell_type": "code",
   "execution_count": null,
   "id": "1b854c27",
   "metadata": {},
   "outputs": [],
   "source": [
    "import matplotlib.pyplot as plt\n",
    "import seaborn as sns \n",
    "\n",
    "\n",
    "\n",
    "\n"
   ]
  }
 ],
 "metadata": {
  "kernelspec": {
   "display_name": "WorkEnvironment",
   "language": "python",
   "name": "python3"
  },
  "language_info": {
   "codemirror_mode": {
    "name": "ipython",
    "version": 3
   },
   "file_extension": ".py",
   "mimetype": "text/x-python",
   "name": "python",
   "nbconvert_exporter": "python",
   "pygments_lexer": "ipython3",
   "version": "3.10.11"
  },
  "vscode": {
   "interpreter": {
    "hash": "209962f6ce21f013fa37640666278af21e6cc3188eddb771a01e36940b3d14f3"
   }
  }
 },
 "nbformat": 4,
 "nbformat_minor": 5
}
